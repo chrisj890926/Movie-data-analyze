{
 "cells": [
  {
   "cell_type": "code",
   "execution_count": 1,
   "metadata": {},
   "outputs": [],
   "source": [
    "import pandas as pd\n",
    "\n",
    "# 讀取Excel文件\n",
    "try:\n",
    "    excel_data = pd.read_excel(r'/Users/tangjiahong/Dropbox/Movie/Movie.xlsx')\n",
    "    csv_file_path = r'/Users/tangjiahong/Dropbox/Movie/Movie.csv'\n",
    "    excel_data.to_csv(csv_file_path, index=False)\n",
    "    csv_file_path\n",
    "except Exception as e:\n",
    "    str(e)\n"
   ]
  }
 ],
 "metadata": {
  "kernelspec": {
   "display_name": "Python 3",
   "language": "python",
   "name": "python3"
  },
  "language_info": {
   "codemirror_mode": {
    "name": "ipython",
    "version": 3
   },
   "file_extension": ".py",
   "mimetype": "text/x-python",
   "name": "python",
   "nbconvert_exporter": "python",
   "pygments_lexer": "ipython3",
   "version": "3.12.2"
  }
 },
 "nbformat": 4,
 "nbformat_minor": 2
}
