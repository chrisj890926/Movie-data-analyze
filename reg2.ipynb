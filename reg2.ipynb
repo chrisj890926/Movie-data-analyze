{
 "cells": [
  {
   "cell_type": "code",
   "execution_count": 1,
   "metadata": {},
   "outputs": [
    {
     "ename": "ModuleNotFoundError",
     "evalue": "No module named 'linearmodels'",
     "output_type": "error",
     "traceback": [
      "\u001b[0;31m---------------------------------------------------------------------------\u001b[0m",
      "\u001b[0;31mModuleNotFoundError\u001b[0m                       Traceback (most recent call last)",
      "Cell \u001b[0;32mIn[1], line 3\u001b[0m\n\u001b[1;32m      1\u001b[0m \u001b[38;5;28;01mimport\u001b[39;00m \u001b[38;5;21;01mpandas\u001b[39;00m \u001b[38;5;28;01mas\u001b[39;00m \u001b[38;5;21;01mpd\u001b[39;00m\n\u001b[1;32m      2\u001b[0m \u001b[38;5;28;01mimport\u001b[39;00m \u001b[38;5;21;01mstatsmodels\u001b[39;00m\u001b[38;5;21;01m.\u001b[39;00m\u001b[38;5;21;01mapi\u001b[39;00m \u001b[38;5;28;01mas\u001b[39;00m \u001b[38;5;21;01msm\u001b[39;00m\n\u001b[0;32m----> 3\u001b[0m \u001b[38;5;28;01mfrom\u001b[39;00m \u001b[38;5;21;01mlinearmodels\u001b[39;00m\u001b[38;5;21;01m.\u001b[39;00m\u001b[38;5;21;01mpanel\u001b[39;00m \u001b[38;5;28;01mimport\u001b[39;00m PanelOLS\n\u001b[1;32m      5\u001b[0m \u001b[38;5;66;03m# 讀取CSV文件\u001b[39;00m\n\u001b[1;32m      6\u001b[0m file_path \u001b[38;5;241m=\u001b[39m \u001b[38;5;124m'\u001b[39m\u001b[38;5;124m/Users/tangjiahong/Dropbox/Movie/Movie.csv\u001b[39m\u001b[38;5;124m'\u001b[39m\n",
      "\u001b[0;31mModuleNotFoundError\u001b[0m: No module named 'linearmodels'"
     ]
    }
   ],
   "source": [
    "import pandas as pd\n",
    "import statsmodels.api as sm\n",
    "from linearmodels.panel import PanelOLS\n",
    "\n",
    "# 讀取CSV文件\n",
    "file_path = '/Users/tangjiahong/Dropbox/Movie/Movie.csv'\n",
    "data = pd.read_csv(file_path)\n",
    "\n",
    "# 處理缺失值\n",
    "data.fillna(0, inplace=True)\n",
    "\n",
    "# 設定面板資料索引（假設有 'id' 和 'time' 列）\n",
    "data = data.set_index(['PlayID', 'PlayYear'])\n",
    "\n",
    "# 準備特徵和目標變數\n",
    "X_vars = [\n",
    "    'PlayWeek', 'Weekend', 'Play_nWeek', 'PlayMonth', 'PlayYear', 'ViewDay', 'CutBack', \n",
    "    'GHA_View_Code', 'TFF_View_Code', 'Theater_Class', 'Tempture', 'Rainfall', 'No_Weather', \n",
    "    'MovieFest', 'Rated', 'Class_Darma', 'Class_Comedy', 'Class_Action', 'Class_Documentary', \n",
    "    'Class_Animation', 'Class_Other', 'Class_NA', 'Movie_Length', 'Director_Award', \n",
    "    'Producer_Famous', 'Distrbutor', 'Budget', 'Actor_Awardall', 'Subsidy_Amount', 'Subsidy_Yes', \n",
    "    'IMDb_rating', 'Oscar_Nom', 'Oscar_AwardTotal', 'Cannes_Nom', 'Cannes_AwardTotal', \n",
    "    'GHA_Nom', 'GHA_AwardTotal', 'TFF_Nom', 'TFF_AwardTotal', 'TFF_NomData', 'view_afhorse', \n",
    "    'view_aftaipei', 'year_2018', 'year_2019', 'year_2020', 'year_2021', 'year_2022', \n",
    "    'month_2', 'month_3', 'month_4', 'month_5', 'month_6', 'month_7', 'month_8', 'month_9', \n",
    "    'month_10', 'month_11', 'month_12', 'view_week_1', 'view_week_2', 'view_week_3', 'view_week_4', \n",
    "    'view_week_58', 'view_week_912', 'theater_1', 'theater_2', 'theater_3', 'theater_4', \n",
    "    'rate_1', 'rate_2', 'rate_3', 'rate_4', 'distributor_1', 'distributor_2', 'distributor_3', \n",
    "    'lnsubsidy', 'lnbudget', 'No_Movie_Length', 'No_Budget', 'No_IMDb', 'No_Oscar', \n",
    "    'No_Cannes', 'No_GHA', 'No_TFF', 'Subsidy_Yes'\n",
    "]\n",
    "X = data[X_vars]\n",
    "y = data['Audience']\n",
    "\n",
    "# 添加常數項\n",
    "X = sm.add_constant(X)\n",
    "\n",
    "# 固定效應模型\n",
    "model = PanelOLS(y, X, entity_effects=True)\n",
    "results = model.fit()\n",
    "\n",
    "print(results)\n"
   ]
  },
  {
   "cell_type": "code",
   "execution_count": null,
   "metadata": {},
   "outputs": [],
   "source": []
  }
 ],
 "metadata": {
  "kernelspec": {
   "display_name": "Python 3",
   "language": "python",
   "name": "python3"
  },
  "language_info": {
   "codemirror_mode": {
    "name": "ipython",
    "version": 3
   },
   "file_extension": ".py",
   "mimetype": "text/x-python",
   "name": "python",
   "nbconvert_exporter": "python",
   "pygments_lexer": "ipython3",
   "version": "3.12.2"
  }
 },
 "nbformat": 4,
 "nbformat_minor": 2
}
